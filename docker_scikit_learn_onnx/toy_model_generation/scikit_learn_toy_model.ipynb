{
 "cells": [
  {
   "cell_type": "code",
   "execution_count": 1,
   "metadata": {},
   "outputs": [],
   "source": [
    "import numpy as np\n",
    "from sklearn.ensemble import RandomForestRegressor\n",
    "from sklearn.datasets import make_regression\n",
    "import onnx\n",
    "from skl2onnx import convert_sklearn\n",
    "from skl2onnx.common.data_types import FloatTensorType\n",
    "import onnxruntime as ort"
   ]
  },
  {
   "cell_type": "code",
   "execution_count": 2,
   "metadata": {},
   "outputs": [
    {
     "name": "stdout",
     "output_type": "stream",
     "text": [
      "ONNX prediction: [[ 91.10057]\n",
      " [181.9491 ]]\n",
      "Scikit-learn prediction: [ 91.10057206 181.9491077 ]\n"
     ]
    }
   ],
   "source": [
    "# Generate random data\n",
    "X, y = make_regression(n_samples=100, n_features=4, random_state=42)\n",
    "\n",
    "# Train a Random Forest model\n",
    "rf = RandomForestRegressor(n_estimators=10, random_state=42)\n",
    "rf.fit(X, y)\n",
    "\n",
    "# Convert to ONNX\n",
    "initial_type = [('float_input', FloatTensorType([None, 4]))]\n",
    "onnx_model = convert_sklearn(rf, initial_types=initial_type, target_opset=13)\n",
    "\n",
    "# Save the model\n",
    "onnx.save_model(onnx_model, \"rf_model.onnx\")\n",
    "\n",
    "# Verify the model\n",
    "\n",
    "# Create test input\n",
    "test_input = np.array([[1.2, 0.5, 3.4, 2.0], [2.3, 1.1, 4.1, 1.5]], dtype=np.float32)\n",
    "\n",
    "# Run inference with ONNX Runtime\n",
    "session = ort.InferenceSession(\"rf_model.onnx\")\n",
    "input_name = session.get_inputs()[0].name\n",
    "output_name = session.get_outputs()[0].name\n",
    "\n",
    "onnx_prediction = session.run([output_name], {input_name: test_input})[0]\n",
    "sklearn_prediction = rf.predict(test_input)\n",
    "\n",
    "print(\"ONNX prediction:\", onnx_prediction)\n",
    "print(\"Scikit-learn prediction:\", sklearn_prediction)"
   ]
  }
 ],
 "metadata": {
  "kernelspec": {
   "display_name": "mle",
   "language": "python",
   "name": "python3"
  },
  "language_info": {
   "codemirror_mode": {
    "name": "ipython",
    "version": 3
   },
   "file_extension": ".py",
   "mimetype": "text/x-python",
   "name": "python",
   "nbconvert_exporter": "python",
   "pygments_lexer": "ipython3",
   "version": "3.11.11"
  }
 },
 "nbformat": 4,
 "nbformat_minor": 2
}
